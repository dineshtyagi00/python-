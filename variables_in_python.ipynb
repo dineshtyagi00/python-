{
 "cells": [
  {
   "cell_type": "markdown",
   "id": "317a19e9-9a7a-4ec1-a739-543b50ef910f",
   "metadata": {},
   "source": [
    "### Variables in python \n",
    "In Python, variables are used to store data. A variable is created when you assign a value to it using the \" = \" operator. Python variables do not require explicit declaration and can hold different data types.\n",
    "\n",
    "Rules for Python Variables:\n",
    "\n",
    "Variable names must start with a letter or an underscore (_), but cannot start with a number.\n",
    "\n",
    "The rest of the variable name can consist of letters, numbers, and underscores.\n",
    "\n",
    "Variable names are case-sensitive (myVariable and myvariable are different).\n"
   ]
  },
  {
   "cell_type": "code",
   "execution_count": 1,
   "id": "d106a72a-5a85-4fe6-8c85-c9796d21ce5a",
   "metadata": {},
   "outputs": [],
   "source": [
    "x = 10            # Integer\n",
    "name = \"Alice\"     # String\n",
    "pi = 3.14         # Float\n",
    "is_active = True   # Boolean\n"
   ]
  },
  {
   "cell_type": "markdown",
   "id": "d6a43577-cf8a-41a0-8444-5153617137fb",
   "metadata": {},
   "source": [
    "## Dynamic Typing\n",
    "Python is dynamically typed, meaning the type of a variable is determined at runtime, and you can change the value and type of a variable."
   ]
  },
  {
   "cell_type": "code",
   "execution_count": 2,
   "id": "4c0dd1a1-e3bc-4a32-a4fc-c6f71fb3685f",
   "metadata": {},
   "outputs": [],
   "source": [
    "x = 10            # Integer\n",
    "x = \"Now a string\" # Now it's a string\n"
   ]
  },
  {
   "cell_type": "markdown",
   "id": "59a5fc76-f234-4394-8782-b01068a0c82d",
   "metadata": {},
   "source": [
    "## Multiple Assignments\n",
    "You can assign values to multiple variables at once:"
   ]
  },
  {
   "cell_type": "code",
   "execution_count": 3,
   "id": "98fbfafc-f739-44fd-8cdd-c20f3a897d13",
   "metadata": {},
   "outputs": [],
   "source": [
    "a, b, c = 1, 2, 3\n"
   ]
  },
  {
   "cell_type": "markdown",
   "id": "15082d9d-d37d-4d2e-8526-d32768a044f9",
   "metadata": {},
   "source": [
    "## Swapping Values\n",
    "In Python, you can swap variables without a temporary variable:"
   ]
  },
  {
   "cell_type": "code",
   "execution_count": 5,
   "id": "4d742661-32c3-4f52-bda1-8d231043a1c5",
   "metadata": {},
   "outputs": [],
   "source": [
    "x, y = 5, 10\n",
    "x, y = y, x  # Now x is 10 and y is 5\n"
   ]
  },
  {
   "cell_type": "markdown",
   "id": "54abc0ce-981e-4da1-ac28-749442de4f47",
   "metadata": {},
   "source": [
    "## Checking Variable Type\n",
    "To check the type of a variable, use the type() function:"
   ]
  },
  {
   "cell_type": "code",
   "execution_count": 6,
   "id": "688a0c71-344e-4b21-a1b2-19f17f3c549c",
   "metadata": {},
   "outputs": [
    {
     "name": "stdout",
     "output_type": "stream",
     "text": [
      "<class 'int'>\n"
     ]
    }
   ],
   "source": [
    "x = 42\n",
    "print(type(x))  # Output: <class 'int'>\n"
   ]
  },
  {
   "cell_type": "code",
   "execution_count": null,
   "id": "fadd6130-1198-4bfe-959a-2c28aad3cb16",
   "metadata": {},
   "outputs": [],
   "source": []
  }
 ],
 "metadata": {
  "kernelspec": {
   "display_name": "Python 3 (ipykernel)",
   "language": "python",
   "name": "python3"
  },
  "language_info": {
   "codemirror_mode": {
    "name": "ipython",
    "version": 3
   },
   "file_extension": ".py",
   "mimetype": "text/x-python",
   "name": "python",
   "nbconvert_exporter": "python",
   "pygments_lexer": "ipython3",
   "version": "3.12.4"
  }
 },
 "nbformat": 4,
 "nbformat_minor": 5
}
