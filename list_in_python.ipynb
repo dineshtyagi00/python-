{
 "cells": [
  {
   "cell_type": "markdown",
   "id": "8e72966f-e896-4c27-b8c0-7e851fb1826c",
   "metadata": {},
   "source": [
    "## list .\n",
    "list are ordered, mutable collection of items .they can contain items of different data types\n",
    "\n",
    "1. introduction to list\n",
    "2. creating list\n",
    "3. acessing list elements\n",
    "4. modifying list elements\n",
    "5. list methods\n",
    "6. slicing lists\n",
    "7. iterating over lists\n",
    "8. list comprehensions\n",
    "9. nested lists\n",
    "10. practical example and common error"
   ]
  },
  {
   "cell_type": "markdown",
   "id": "9d7247c9-b564-4ad9-af91-718f50e6c2cf",
   "metadata": {},
   "source": [
    "In Python, a list is a data structure that allows you to store multiple items in a single variable. Lists are ordered, mutable (modifiable), and allow duplicate elements."
   ]
  },
  {
   "cell_type": "code",
   "execution_count": 1,
   "id": "037862c3-768e-41af-825a-443be4d501b1",
   "metadata": {},
   "outputs": [],
   "source": [
    "##creating list\n",
    "##You can create a list by placing items inside square brackets [], separated by commas.\n",
    "###\n",
    "names =[\"krish\",5,\"keshav\"]"
   ]
  },
  {
   "cell_type": "code",
   "execution_count": 2,
   "id": "776aa012-c5ec-49cf-9196-681dbea5572c",
   "metadata": {},
   "outputs": [
    {
     "data": {
      "text/plain": [
       "['krish', 5, 'keshav']"
      ]
     },
     "execution_count": 2,
     "metadata": {},
     "output_type": "execute_result"
    }
   ],
   "source": [
    "names"
   ]
  },
  {
   "cell_type": "code",
   "execution_count": 4,
   "id": "95a26d0a-376a-4f92-a703-54ce3202b6d2",
   "metadata": {},
   "outputs": [],
   "source": [
    "##Accessing Elements:\n",
    "##You can access list elements using their index. The first element has index 0.\n",
    "\n",
    "fruits =[\"appple\",\"bannana\",\"kivi\",\"cherry\"]"
   ]
  },
  {
   "cell_type": "code",
   "execution_count": 5,
   "id": "4e18dc5c-a7b1-4e5e-b899-ec1cd78f0cd5",
   "metadata": {},
   "outputs": [
    {
     "data": {
      "text/plain": [
       "'appple'"
      ]
     },
     "execution_count": 5,
     "metadata": {},
     "output_type": "execute_result"
    }
   ],
   "source": [
    "fruits[0]"
   ]
  },
  {
   "cell_type": "code",
   "execution_count": 6,
   "id": "f7549e32-bbcb-46e4-92d2-dbe36cab6624",
   "metadata": {},
   "outputs": [
    {
     "data": {
      "text/plain": [
       "['bannana', 'kivi']"
      ]
     },
     "execution_count": 6,
     "metadata": {},
     "output_type": "execute_result"
    }
   ],
   "source": [
    "fruits[1:3]"
   ]
  },
  {
   "cell_type": "code",
   "execution_count": 7,
   "id": "68ae4d8e-7fa2-4e10-8354-5b9ceccd1ee8",
   "metadata": {},
   "outputs": [],
   "source": [
    "##modifying list elements:\n",
    "##Modifying a List: Since lists are mutable, you can modify them after creation\n",
    "fruits[1]=\"watermelon\""
   ]
  },
  {
   "cell_type": "code",
   "execution_count": 8,
   "id": "d57ca9f6-7c58-4999-b575-8e7cdd8d4e0e",
   "metadata": {},
   "outputs": [
    {
     "name": "stdout",
     "output_type": "stream",
     "text": [
      "['appple', 'watermelon', 'kivi', 'cherry']\n"
     ]
    }
   ],
   "source": [
    "print(fruits)"
   ]
  },
  {
   "cell_type": "code",
   "execution_count": 9,
   "id": "5a8b05b7-4a76-47e5-a891-a08e4c0eac6a",
   "metadata": {},
   "outputs": [],
   "source": [
    "##Adding Elements:\n",
    "## append() adds a single element to the end of the list.\n",
    "## extend() adds multiple elements to the list.\n",
    "## insert() adds an element at a specific position.\n",
    "\n",
    "fruits.append(\"guava\")\n",
    "fruits.insert(1,\"pomegranate\")"
   ]
  },
  {
   "cell_type": "code",
   "execution_count": 10,
   "id": "c4e97b11-6a08-42cf-a2cc-04ac4dbc6c69",
   "metadata": {},
   "outputs": [
    {
     "name": "stdout",
     "output_type": "stream",
     "text": [
      "['appple', 'pomegranate', 'watermelon', 'kivi', 'cherry', 'guava']\n"
     ]
    }
   ],
   "source": [
    "print(fruits)"
   ]
  },
  {
   "cell_type": "code",
   "execution_count": 11,
   "id": "1de09203-f9fc-451c-9d80-10cb478ffa1f",
   "metadata": {},
   "outputs": [],
   "source": [
    "##Removing Elements:\n",
    "##remove() removes the first occurrence of a value.\n",
    "##pop() removes an element at a specific index or the last element if no index is specified.\n",
    "##clear() removes all elements from the list"
   ]
  },
  {
   "cell_type": "code",
   "execution_count": 12,
   "id": "babc2365-dd6c-4812-9faf-6d7bda828f2f",
   "metadata": {},
   "outputs": [],
   "source": [
    "fruits.remove(\"appple\") "
   ]
  },
  {
   "cell_type": "code",
   "execution_count": 13,
   "id": "95dee3a3-fb7f-476f-8a7b-126db2ceac39",
   "metadata": {},
   "outputs": [
    {
     "data": {
      "text/plain": [
       "'guava'"
      ]
     },
     "execution_count": 13,
     "metadata": {},
     "output_type": "execute_result"
    }
   ],
   "source": [
    "fruits.pop() # Removes the last element"
   ]
  },
  {
   "cell_type": "code",
   "execution_count": 14,
   "id": "056c086a-6612-4a30-b5b4-c5506c660689",
   "metadata": {},
   "outputs": [
    {
     "data": {
      "text/plain": [
       "'pomegranate'"
      ]
     },
     "execution_count": 14,
     "metadata": {},
     "output_type": "execute_result"
    }
   ],
   "source": [
    "fruits.pop(0) # Removes element at index 1"
   ]
  },
  {
   "cell_type": "code",
   "execution_count": 15,
   "id": "ea0ee535-ce18-4e8c-ac05-7c6290c61e6d",
   "metadata": {},
   "outputs": [],
   "source": [
    "fruits.clear() # Removes all elements from the list"
   ]
  },
  {
   "cell_type": "code",
   "execution_count": 16,
   "id": "f8ff15a0-7423-44c7-8309-e71ced175e60",
   "metadata": {},
   "outputs": [],
   "source": [
    "fruits =[\"appple\",\"bannana\",\"kivi\",\"cherry\"]"
   ]
  },
  {
   "cell_type": "code",
   "execution_count": 17,
   "id": "284d37ab-e068-4ef1-9df3-4cc394fa87ae",
   "metadata": {},
   "outputs": [],
   "source": [
    "fruits.sort() ##sort list in ascending order "
   ]
  },
  {
   "cell_type": "code",
   "execution_count": 18,
   "id": "57422210-3eb1-4234-a150-c070b30b0c77",
   "metadata": {},
   "outputs": [],
   "source": [
    "fruits.reverse() ##reverse  the list"
   ]
  },
  {
   "cell_type": "code",
   "execution_count": 19,
   "id": "78dfc328-a0eb-4459-a1c3-0c8cf56ae909",
   "metadata": {},
   "outputs": [
    {
     "data": {
      "text/plain": [
       "['kivi', 'cherry', 'bannana', 'appple']"
      ]
     },
     "execution_count": 19,
     "metadata": {},
     "output_type": "execute_result"
    }
   ],
   "source": [
    "fruits"
   ]
  },
  {
   "cell_type": "code",
   "execution_count": 20,
   "id": "a22d7a95-a2db-468d-a861-6e615f67a442",
   "metadata": {},
   "outputs": [
    {
     "name": "stdout",
     "output_type": "stream",
     "text": [
      "['cherry', 'bannana', 'appple']\n",
      "['kivi', 'cherry', 'bannana']\n",
      "['appple']\n"
     ]
    }
   ],
   "source": [
    "##Slicing a List:\n",
    "##You can get a sublist by slicing the list\n",
    "## double colon :: is step size \n",
    "\n",
    "print(fruits[1:4])  # Output:  (from index 1 to 3)\n",
    "print(fruits[:3])  # Output:  (from the start to index 2)\n",
    "print(fruits[3:])  # Output:  (from index 3 to the end)"
   ]
  },
  {
   "cell_type": "code",
   "execution_count": 21,
   "id": "49fc2424-6b1d-48d3-83c6-8634682820ef",
   "metadata": {},
   "outputs": [
    {
     "name": "stdout",
     "output_type": "stream",
     "text": [
      "10\n",
      "20\n",
      "30\n",
      "40\n",
      "50\n"
     ]
    }
   ],
   "source": [
    "## list iteration \n",
    "##1\n",
    "##You can iterate over a list using a for loop:\n",
    "\n",
    "my_list = [10, 20, 30, 40, 50]\n",
    "\n",
    "for item in my_list:\n",
    "    print(item)\n"
   ]
  },
  {
   "cell_type": "code",
   "execution_count": 23,
   "id": "95ec6bc5-eff5-4cc9-85ed-3718834435ad",
   "metadata": {},
   "outputs": [
    {
     "name": "stdout",
     "output_type": "stream",
     "text": [
      "Index: 0, Value: 10\n",
      "Index: 1, Value: 20\n",
      "Index: 2, Value: 30\n",
      "Index: 3, Value: 40\n",
      "Index: 4, Value: 50\n"
     ]
    }
   ],
   "source": [
    "##2.\n",
    "##Using for Loop with Index\n",
    "##You can also access both the index and the element using range() and len():\n",
    "\n",
    "for i in range(len(my_list)):\n",
    "    print(f\"Index: {i}, Value: {my_list[i]}\")"
   ]
  },
  {
   "cell_type": "code",
   "execution_count": 24,
   "id": "c967bd0e-8769-4568-aa8f-6e4295326859",
   "metadata": {},
   "outputs": [
    {
     "name": "stdout",
     "output_type": "stream",
     "text": [
      "Index: 0, Value: 10\n",
      "Index: 1, Value: 20\n",
      "Index: 2, Value: 30\n",
      "Index: 3, Value: 40\n",
      "Index: 4, Value: 50\n"
     ]
    }
   ],
   "source": [
    "##Using enumerate()\n",
    "##The enumerate() function provides both the index and the value directly.\n",
    "\n",
    "for index, value in enumerate(my_list):\n",
    "    print(f\"Index: {index}, Value: {value}\")"
   ]
  },
  {
   "cell_type": "code",
   "execution_count": 25,
   "id": "93b7a520-154e-4078-b961-1363f33b4268",
   "metadata": {},
   "outputs": [
    {
     "name": "stdout",
     "output_type": "stream",
     "text": [
      "[100, 400, 900, 1600, 2500]\n"
     ]
    }
   ],
   "source": [
    "##5\n",
    "## Using List Comprehension\n",
    "##You can also iterate over a list and apply some operation using list comprehension\n",
    "squares = [x**2 for x in my_list]\n",
    "print(squares)\n",
    "\n",
    "### basic syntax               [expression for item in iterable]\n",
    "## with conditional logic      [expression for item in iterable if condition]\n",
    "## nested  list comphrehension  [expression for item1 in iterable1 for item2 in iterable  ]"
   ]
  },
  {
   "cell_type": "code",
   "execution_count": 26,
   "id": "3108eccd-f427-4a43-aa1a-a06a5efca00b",
   "metadata": {},
   "outputs": [
    {
     "name": "stdout",
     "output_type": "stream",
     "text": [
      "[0, 1, 4, 9, 16, 25, 36, 49, 64, 81]\n"
     ]
    }
   ],
   "source": [
    "### basic list comphrehension\n",
    "\n",
    "square = [num**2 for num in range(10)]\n",
    "print(square)"
   ]
  },
  {
   "cell_type": "code",
   "execution_count": 27,
   "id": "22de27b5-99ec-4b8b-a731-4911a836283e",
   "metadata": {},
   "outputs": [
    {
     "name": "stdout",
     "output_type": "stream",
     "text": [
      "[0, 2, 4, 6, 8]\n"
     ]
    }
   ],
   "source": [
    "## list comphrehension with condition\n",
    "lst = []\n",
    "for i in range(10):\n",
    "    if i % 2 == 0:\n",
    "        lst.append(i)\n",
    "\n",
    "print(lst)\n",
    " "
   ]
  },
  {
   "cell_type": "code",
   "execution_count": 28,
   "id": "29f5153b-10d6-4aad-a732-8db904b88dcd",
   "metadata": {},
   "outputs": [],
   "source": [
    "### nested list comphrehension \n",
    "lst1 = [1,2,3,4]\n",
    "lst2 = ['a','b','c']\n",
    "pair= [[i,j] for i in lst1 for j in lst2]"
   ]
  },
  {
   "cell_type": "code",
   "execution_count": 29,
   "id": "b308f702-490a-4c93-9e20-02155e1b62ab",
   "metadata": {},
   "outputs": [
    {
     "name": "stdout",
     "output_type": "stream",
     "text": [
      "[[1, 'a'], [1, 'b'], [1, 'c'], [2, 'a'], [2, 'b'], [2, 'c'], [3, 'a'], [3, 'b'], [3, 'c'], [4, 'a'], [4, 'b'], [4, 'c']]\n"
     ]
    }
   ],
   "source": [
    "print(pair)"
   ]
  },
  {
   "cell_type": "code",
   "execution_count": 30,
   "id": "a3af2540-a391-493d-9c39-a9a77f9d46e2",
   "metadata": {},
   "outputs": [
    {
     "name": "stdout",
     "output_type": "stream",
     "text": [
      "[5, 6, 5]\n"
     ]
    }
   ],
   "source": [
    "## list comphrehension with function calls\n",
    "\n",
    "words = [\"heelo\", \"keshav\", \"tyagi\"]\n",
    "lengths = [len(word) for word in words]\n",
    "print(lengths)"
   ]
  },
  {
   "cell_type": "code",
   "execution_count": 39,
   "id": "4e540ae6-2d43-4378-99e0-beda3a0796b6",
   "metadata": {},
   "outputs": [],
   "source": [
    "## Create a list of the first 20 positive integers. Print the list.\n",
    "lst = list(range(1,21))\n"
   ]
  },
  {
   "cell_type": "code",
   "execution_count": 40,
   "id": "d62068fd-5298-4204-a0e7-b0c8d47a3ab8",
   "metadata": {},
   "outputs": [
    {
     "data": {
      "text/plain": [
       "[1, 2, 3, 4, 5, 6, 7, 8, 9, 10, 11, 12, 13, 14, 15, 16, 17, 18, 19, 20]"
      ]
     },
     "execution_count": 40,
     "metadata": {},
     "output_type": "execute_result"
    }
   ],
   "source": [
    "lst"
   ]
  },
  {
   "cell_type": "markdown",
   "id": "64a9ae76-293a-4877-9a48-77883a94c705",
   "metadata": {},
   "source": [
    "Print the first, middle, and last elements of the list created"
   ]
  },
  {
   "cell_type": "code",
   "execution_count": 43,
   "id": "781a0c33-58d5-432b-9a11-c24acf5fb996",
   "metadata": {},
   "outputs": [
    {
     "name": "stdout",
     "output_type": "stream",
     "text": [
      "first element:1\n",
      "middle element:11\n",
      "first element:20\n"
     ]
    }
   ],
   "source": [
    "print(f\"first element:{lst[0]}\")\n",
    "print(f\"middle element:{lst[len(lst)//2]}\")\n",
    "print(f\"first element:{lst[-1]}\")"
   ]
  },
  {
   "cell_type": "markdown",
   "id": "ff6b9f2c-b70f-4e05-9cf1-40867727432d",
   "metadata": {},
   "source": [
    " List Slicing\n",
    "\n",
    "Print the first five elements, the last five elements, and the elements from index 5 to 15 of the list created"
   ]
  },
  {
   "cell_type": "code",
   "execution_count": 45,
   "id": "96cd477e-9f2a-449f-8f1f-804d0d0afbf5",
   "metadata": {},
   "outputs": [
    {
     "data": {
      "text/plain": [
       "[1, 2, 3, 4, 5]"
      ]
     },
     "execution_count": 45,
     "metadata": {},
     "output_type": "execute_result"
    }
   ],
   "source": [
    "lst[:5]"
   ]
  },
  {
   "cell_type": "code",
   "execution_count": 47,
   "id": "0b829505-a040-4c5e-adcf-76d184191981",
   "metadata": {},
   "outputs": [
    {
     "data": {
      "text/plain": [
       "[16, 17, 18, 19, 20]"
      ]
     },
     "execution_count": 47,
     "metadata": {},
     "output_type": "execute_result"
    }
   ],
   "source": [
    "lst[-5:]"
   ]
  },
  {
   "cell_type": "code",
   "execution_count": 48,
   "id": "3917ac21-1035-401c-8499-e5aa4742707f",
   "metadata": {},
   "outputs": [
    {
     "data": {
      "text/plain": [
       "[6, 7, 8, 9, 10, 11, 12, 13, 14, 15]"
      ]
     },
     "execution_count": 48,
     "metadata": {},
     "output_type": "execute_result"
    }
   ],
   "source": [
    "lst[5:15]"
   ]
  },
  {
   "cell_type": "markdown",
   "id": "514392e8-2e31-4142-9073-7741479279fb",
   "metadata": {},
   "source": [
    " List Comprehensions\n",
    "\n",
    "Create a new list containing the squares of the first 10 positive integers using a list comprehension. Print the new list."
   ]
  },
  {
   "cell_type": "code",
   "execution_count": 51,
   "id": "170b9b20-3558-4a00-8fe0-83b700b445de",
   "metadata": {},
   "outputs": [],
   "source": [
    "squares= [x**2 for x in range(1,11)]"
   ]
  },
  {
   "cell_type": "code",
   "execution_count": 52,
   "id": "f023df8e-857a-40f8-aa4e-195ed6043010",
   "metadata": {},
   "outputs": [
    {
     "data": {
      "text/plain": [
       "[1, 4, 9, 16, 25, 36, 49, 64, 81, 100]"
      ]
     },
     "execution_count": 52,
     "metadata": {},
     "output_type": "execute_result"
    }
   ],
   "source": [
    "squares"
   ]
  },
  {
   "cell_type": "markdown",
   "id": "0ae4dc32-29cd-4898-819d-e700ee1b1a42",
   "metadata": {},
   "source": [
    "Filtering Lists\n",
    "\n",
    "Create a new list containing only the even numbers from the list created  using a list comprehension. Print the new list."
   ]
  },
  {
   "cell_type": "code",
   "execution_count": 58,
   "id": "13003e6b-9e74-4a8e-a98b-3bd3cfb08aee",
   "metadata": {},
   "outputs": [
    {
     "name": "stdout",
     "output_type": "stream",
     "text": [
      "[2, 4, 6, 8, 10, 12, 14, 16, 18, 20]\n"
     ]
    }
   ],
   "source": [
    "evens = [x for x in lst if x % 2 == 0]\n",
    "print(evens)"
   ]
  },
  {
   "cell_type": "markdown",
   "id": "ab21264c-1474-4dd2-aa61-b1827d57a07f",
   "metadata": {},
   "source": [
    "List Methods\n",
    "\n",
    "Create a list of random numbers and sort it in ascending and descending order. Remove the duplicates from the list and print the modified list."
   ]
  },
  {
   "cell_type": "code",
   "execution_count": 59,
   "id": "c93dc471-4ee8-4301-9d77-da77c0ed3878",
   "metadata": {},
   "outputs": [
    {
     "name": "stdout",
     "output_type": "stream",
     "text": [
      "Original list: [5, 11, 17, 9, 9, 11, 19, 4, 13, 20, 19, 15, 10, 7, 12]\n",
      "Sorted in ascending order: [4, 5, 7, 9, 9, 10, 11, 11, 12, 13, 15, 17, 19, 19, 20]\n",
      "Sorted in descending order: [20, 19, 19, 17, 15, 13, 12, 11, 11, 10, 9, 9, 7, 5, 4]\n",
      "List with duplicates removed: [4, 5, 7, 9, 10, 11, 12, 13, 15, 17, 19, 20]\n"
     ]
    }
   ],
   "source": [
    "import random\n",
    "\n",
    "random_numbers = [random.randint(1, 20) for _ in range(15)]\n",
    "print(f\"Original list: {random_numbers}\")\n",
    "\n",
    "sorted_numbers = sorted(random_numbers)\n",
    "print(f\"Sorted in ascending order: {sorted_numbers}\")\n",
    "\n",
    "sorted_numbers_desc = sorted(random_numbers, reverse=True)\n",
    "print(f\"Sorted in descending order: {sorted_numbers_desc}\")\n",
    "\n",
    "unique_numbers = list(set(random_numbers))\n",
    "print(f\"List with duplicates removed: {unique_numbers}\")"
   ]
  },
  {
   "cell_type": "markdown",
   "id": "71788f92-28b2-4e78-a438-63b4d45cdf03",
   "metadata": {},
   "source": [
    "Nested Lists\n",
    "\n",
    "Create a nested list representing a 3x3 matrix and print the matrix. Access and print the element at the second row and third column."
   ]
  },
  {
   "cell_type": "code",
   "execution_count": 60,
   "id": "4cdaba06-c47b-4a55-803c-2113dba78ac5",
   "metadata": {},
   "outputs": [
    {
     "name": "stdout",
     "output_type": "stream",
     "text": [
      "Matrix:\n",
      "[1, 2, 3]\n",
      "[4, 5, 6]\n",
      "[7, 8, 9]\n",
      "Element at second row and third column: 6\n"
     ]
    }
   ],
   "source": [
    "matrix = [\n",
    "    [1, 2, 3],\n",
    "    [4, 5, 6],\n",
    "    [7, 8, 9]\n",
    "]\n",
    "print(\"Matrix:\")\n",
    "for row in matrix:\n",
    "    print(row)\n",
    "print(f\"Element at second row and third column: {matrix[1][2]}\")"
   ]
  },
  {
   "cell_type": "markdown",
   "id": "3ece649d-1e46-4f2f-93cb-ca075f95c24c",
   "metadata": {},
   "source": [
    "List of Dictionaries\n",
    "\n",
    "Create a list of dictionaries where each dictionary represents a student with keys 'name' and 'score'. Sort the list of dictionaries by the 'score' in descending order and print the sorted list."
   ]
  },
  {
   "cell_type": "code",
   "execution_count": 61,
   "id": "5ae43602-8eca-46d8-aa4a-26e0df7c728b",
   "metadata": {},
   "outputs": [
    {
     "name": "stdout",
     "output_type": "stream",
     "text": [
      "Sorted students by score in descending order:\n",
      "{'name': 'Charlie', 'score': 95}\n",
      "{'name': 'Alice', 'score': 88}\n",
      "{'name': 'Eve', 'score': 78}\n",
      "{'name': 'Bob', 'score': 72}\n",
      "{'name': 'David', 'score': 65}\n"
     ]
    }
   ],
   "source": [
    "students = [\n",
    "    {'name': 'Alice', 'score': 88},\n",
    "    {'name': 'Bob', 'score': 72},\n",
    "    {'name': 'Charlie', 'score': 95},\n",
    "    {'name': 'David', 'score': 65},\n",
    "    {'name': 'Eve', 'score': 78}\n",
    "]\n",
    "sorted_students = sorted(students, key=lambda x: x['score'], reverse=True)\n",
    "print(\"Sorted students by score in descending order:\")\n",
    "for student in sorted_students:\n",
    "    print(student)"
   ]
  },
  {
   "cell_type": "markdown",
   "id": "70451c2a-2dd6-41a6-95f8-9650f8fff670",
   "metadata": {},
   "source": [
    " Matrix Transposition\n",
    "\n",
    "Write a function that takes a 3x3 matrix (nested list) as input and returns its transpose. Print the original and transposed matrices."
   ]
  },
  {
   "cell_type": "code",
   "execution_count": 62,
   "id": "b95b19a6-4ea7-4d6a-aac5-4a46c4b80a6a",
   "metadata": {},
   "outputs": [
    {
     "name": "stdout",
     "output_type": "stream",
     "text": [
      "Original matrix:\n",
      "[1, 2, 3]\n",
      "[4, 5, 6]\n",
      "[7, 8, 9]\n",
      "Transposed matrix:\n",
      "[1, 4, 7]\n",
      "[2, 5, 8]\n",
      "[3, 6, 9]\n"
     ]
    }
   ],
   "source": [
    "def transpose_matrix(matrix):\n",
    "    transposed = [[matrix[j][i] for j in range(len(matrix))] for i in range(len(matrix[0]))]\n",
    "    return transposed\n",
    "\n",
    "matrix = [\n",
    "    [1, 2, 3],\n",
    "    [4, 5, 6],\n",
    "    [7, 8, 9]\n",
    "]\n",
    "transposed = transpose_matrix(matrix)\n",
    "print(\"Original matrix:\")\n",
    "for row in matrix:\n",
    "    print(row)\n",
    "print(\"Transposed matrix:\")\n",
    "for row in transposed:\n",
    "    print(row)"
   ]
  },
  {
   "cell_type": "markdown",
   "id": "920086cb-36fb-457c-b58e-cdb26fe1d332",
   "metadata": {},
   "source": [
    "Flattening a Nested List\n",
    "\n",
    "Write a function that takes a nested list and flattens it into a single list. Print the original and flattened lists."
   ]
  },
  {
   "cell_type": "code",
   "execution_count": 63,
   "id": "4928455c-d2f0-4df0-aad1-3368fb46555b",
   "metadata": {},
   "outputs": [
    {
     "name": "stdout",
     "output_type": "stream",
     "text": [
      "Original nested list:\n",
      "[[1, 2, 3], [4, 5, 6], [7, 8, 9]]\n",
      "Flattened list:\n",
      "[1, 2, 3, 4, 5, 6, 7, 8, 9]\n"
     ]
    }
   ],
   "source": [
    "def flatten_list(nested_list):\n",
    "    flat_list = [item for sublist in nested_list for item in sublist]\n",
    "    return flat_list\n",
    "\n",
    "nested_list = [\n",
    "    [1, 2, 3],\n",
    "    [4, 5, 6],\n",
    "    [7, 8, 9]\n",
    "]\n",
    "flattened = flatten_list(nested_list)\n",
    "print(\"Original nested list:\")\n",
    "print(nested_list)\n",
    "print(\"Flattened list:\")\n",
    "print(flattened)"
   ]
  },
  {
   "cell_type": "markdown",
   "id": "217aa7f2-7f19-423a-8984-7c151f2f4ed7",
   "metadata": {},
   "source": [
    "List Manipulation\n",
    "\n",
    "Create a list of the first 10 positive integers. Remove the elements at indices 2, 4, and 6, and insert the element '99' at index 5. Print the modified list."
   ]
  },
  {
   "cell_type": "code",
   "execution_count": 64,
   "id": "7bf05933-e2f7-46dd-88da-31637e28d4ac",
   "metadata": {},
   "outputs": [
    {
     "name": "stdout",
     "output_type": "stream",
     "text": [
      "Original list: [1, 2, 3, 4, 5, 6, 7, 8, 9, 10]\n",
      "Modified list: [1, 2, 4, 6, 8, 99, 9, 10]\n"
     ]
    }
   ],
   "source": [
    "lst = list(range(1, 11))\n",
    "print(f\"Original list: {lst}\")\n",
    "del lst[6]\n",
    "del lst[4]\n",
    "del lst[2]\n",
    "lst.insert(5, 99)\n",
    "print(f\"Modified list: {lst}\")"
   ]
  },
  {
   "cell_type": "markdown",
   "id": "31c2652a-0975-4398-b8d7-f6b07af59b58",
   "metadata": {},
   "source": [
    "List Zipping\n",
    "\n",
    "Create two lists of the same length. Use the `zip` function to combine these lists into a list of tuples and print the result."
   ]
  },
  {
   "cell_type": "code",
   "execution_count": 65,
   "id": "07b4fd28-92bd-447e-aa6c-0b8387503b91",
   "metadata": {},
   "outputs": [
    {
     "name": "stdout",
     "output_type": "stream",
     "text": [
      "[(1, 'a'), (2, 'b'), (3, 'c'), (4, 'd'), (5, 'e')]\n"
     ]
    }
   ],
   "source": [
    "list1 = [1, 2, 3, 4, 5]\n",
    "list2 = ['a', 'b', 'c', 'd', 'e']\n",
    "zipped = list(zip(list1, list2))\n",
    "print(zipped)"
   ]
  },
  {
   "cell_type": "markdown",
   "id": "8f519fe7-5e5e-4b96-b6d0-3f556a08fc31",
   "metadata": {},
   "source": [
    "List Reversal\n",
    "\n",
    "Write a function that takes a list and returns a new list with the elements in reverse order. Print the original and reversed lists."
   ]
  },
  {
   "cell_type": "code",
   "execution_count": 66,
   "id": "67bde674-2de5-4266-87c9-beeca4958250",
   "metadata": {},
   "outputs": [
    {
     "name": "stdout",
     "output_type": "stream",
     "text": [
      "Original list: [1, 2, 3, 4, 5]\n",
      "Reversed list: [5, 4, 3, 2, 1]\n"
     ]
    }
   ],
   "source": [
    "def reverse_list(lst):\n",
    "    return lst[::-1]\n",
    "\n",
    "original_list = [1, 2, 3, 4, 5]\n",
    "reversed_list = reverse_list(original_list)\n",
    "print(f\"Original list: {original_list}\")\n",
    "print(f\"Reversed list: {reversed_list}\")"
   ]
  },
  {
   "cell_type": "markdown",
   "id": "96bc72b2-7d80-4ca3-9fb6-fee2526b2160",
   "metadata": {},
   "source": [
    "List Rotation\n",
    "\n",
    "Write a function that rotates a list by n positions. Print the original and rotated lists."
   ]
  },
  {
   "cell_type": "code",
   "execution_count": 67,
   "id": "cee1afc4-7fc6-4b3c-9e4d-d37744eea542",
   "metadata": {},
   "outputs": [
    {
     "name": "stdout",
     "output_type": "stream",
     "text": [
      "Original list: [1, 2, 3, 4, 5]\n",
      "Rotated list: [3, 4, 5, 1, 2]\n"
     ]
    }
   ],
   "source": [
    "def rotate_list(lst, n):\n",
    "    return lst[n:] + lst[:n]\n",
    "\n",
    "original_list = [1, 2, 3, 4, 5]\n",
    "rotated_list = rotate_list(original_list, 2)\n",
    "print(f\"Original list: {original_list}\")\n",
    "print(f\"Rotated list: {rotated_list}\")"
   ]
  },
  {
   "cell_type": "markdown",
   "id": "6bbb63e3-5027-4c77-a2c9-d163dadd0bfc",
   "metadata": {},
   "source": [
    "List Intersection\n",
    "\n",
    "Write a function that takes two lists and returns a new list containing only the elements that are present in both lists. Print the intersected list."
   ]
  },
  {
   "cell_type": "code",
   "execution_count": 68,
   "id": "c5a8848c-a728-4029-b9e1-d578592b35d3",
   "metadata": {},
   "outputs": [
    {
     "name": "stdout",
     "output_type": "stream",
     "text": [
      "List 1: [1, 2, 3, 4, 5]\n",
      "List 2: [3, 4, 5, 6, 7]\n",
      "Intersection: [3, 4, 5]\n"
     ]
    }
   ],
   "source": [
    "def list_intersection(lst1, lst2):\n",
    "    return [x for x in lst1 if x in lst2]\n",
    "\n",
    "list1 = [1, 2, 3, 4, 5]\n",
    "list2 = [3, 4, 5, 6, 7]\n",
    "intersection = list_intersection(list1, list2)\n",
    "print(f\"List 1: {list1}\")\n",
    "print(f\"List 2: {list2}\")\n",
    "print(f\"Intersection: {intersection}\")"
   ]
  },
  {
   "cell_type": "code",
   "execution_count": null,
   "id": "b9dd2ad5-b635-4f80-99c0-6811bf4328fe",
   "metadata": {},
   "outputs": [],
   "source": []
  }
 ],
 "metadata": {
  "kernelspec": {
   "display_name": "Python 3 (ipykernel)",
   "language": "python",
   "name": "python3"
  },
  "language_info": {
   "codemirror_mode": {
    "name": "ipython",
    "version": 3
   },
   "file_extension": ".py",
   "mimetype": "text/x-python",
   "name": "python",
   "nbconvert_exporter": "python",
   "pygments_lexer": "ipython3",
   "version": "3.12.4"
  }
 },
 "nbformat": 4,
 "nbformat_minor": 5
}
