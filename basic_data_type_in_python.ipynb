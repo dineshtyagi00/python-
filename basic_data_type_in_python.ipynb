{
 "cells": [
  {
   "cell_type": "markdown",
   "id": "4e0f4e79-25e7-49d8-967a-d816659d1138",
   "metadata": {},
   "source": [
    "## ----> Basic data types in python \n",
    "In Python, there are several basic data types (or primitive types) that are commonly used to store different kinds of values. Here are the main ones:"
   ]
  },
  {
   "cell_type": "markdown",
   "id": "f115b96b-4609-4e70-9adc-f156ca1a97e8",
   "metadata": {},
   "source": [
    "## Integer (int)\n",
    "   \n",
    "Represents whole numbers (positive, negative, or zero) without decimal points.\n",
    "\n",
    "Type: int\n",
    "\n",
    "Range: Arbitrarily large (unlike many languages with fixed-size integers).\n"
   ]
  },
  {
   "cell_type": "code",
   "execution_count": 1,
   "id": "9d947488-1943-48ca-9f1d-4124dd2e3a95",
   "metadata": {},
   "outputs": [],
   "source": [
    "age = 25\n",
    "temperature = -10\n"
   ]
  },
  {
   "cell_type": "markdown",
   "id": "da7fa0ad-bc95-49f9-9582-bc1986ceb960",
   "metadata": {},
   "source": [
    " ## Floating Point Number (float)\n",
    "Represents real numbers with decimal points (i.e., numbers that have a fractional part).\n",
    "\n",
    "Type: float"
   ]
  },
  {
   "cell_type": "code",
   "execution_count": 2,
   "id": "9d29df70-536a-4e55-9e48-08b5922605c4",
   "metadata": {},
   "outputs": [],
   "source": [
    "pi = 3.14159\n",
    "height = 5.8\n"
   ]
  },
  {
   "cell_type": "markdown",
   "id": "a7f73943-9550-4896-9f12-0621dc02d321",
   "metadata": {},
   "source": [
    " ## String (str)\n",
    " \n",
    "A sequence of characters (text). Strings are enclosed in single (') or double (\") quotes.\n",
    "\n",
    "Type: str\n",
    "\n",
    "Strings are immutable, meaning once created, they cannot be modified."
   ]
  },
  {
   "cell_type": "code",
   "execution_count": 3,
   "id": "5526a6b2-bda7-4864-885c-2089e751fcc0",
   "metadata": {},
   "outputs": [],
   "source": [
    "name = \"Alice\"\n",
    "greeting = 'Hello, world!'\n"
   ]
  },
  {
   "cell_type": "markdown",
   "id": "1ed4f18b-2ec2-4800-8eee-f61e8d1c788d",
   "metadata": {},
   "source": [
    "## Boolean (bool)\n",
    "Represents one of two values: True or False.\n",
    "Type: bool"
   ]
  },
  {
   "cell_type": "code",
   "execution_count": 4,
   "id": "0fa19208-cd6e-4434-a70a-0a9676fd6ce0",
   "metadata": {},
   "outputs": [],
   "source": [
    "is_active = True\n",
    "has_permission = False\n"
   ]
  },
  {
   "cell_type": "markdown",
   "id": "633c3ff6-1bb9-457f-b8b2-bbaebced095f",
   "metadata": {},
   "source": [
    "## None (NoneType)\n",
    "Represents the absence of a value or a null value."
   ]
  },
  {
   "cell_type": "code",
   "execution_count": 5,
   "id": "5d582acb-8cc1-4b80-b171-dee74d4b4162",
   "metadata": {},
   "outputs": [],
   "source": [
    "result = None\n"
   ]
  },
  {
   "cell_type": "markdown",
   "id": "5361af28-4eda-4bef-80f4-bf5a936ebab5",
   "metadata": {},
   "source": [
    "## Complex Numbers (complex)\n",
    "Represents complex numbers (numbers with a real and an imaginary part)\n",
    "\n",
    "Type: complex\n",
    "\n",
    "The imaginary part is denoted by j."
   ]
  },
  {
   "cell_type": "code",
   "execution_count": 7,
   "id": "7b57e068-58cb-4503-9cc0-0b0e2441bbe1",
   "metadata": {},
   "outputs": [],
   "source": [
    "z = 3 + 4j\n"
   ]
  },
  {
   "cell_type": "markdown",
   "id": "95b8f66f-f0f0-4f3d-81c0-5091e7d055b6",
   "metadata": {},
   "source": [
    "## Checking Data Types\n",
    "You can use the type() function to check the data type of a variable:"
   ]
  },
  {
   "cell_type": "code",
   "execution_count": 8,
   "id": "24e8cb46-e70b-4c1f-a9ee-c312a4cd0cd4",
   "metadata": {},
   "outputs": [
    {
     "name": "stdout",
     "output_type": "stream",
     "text": [
      "<class 'int'>\n",
      "<class 'float'>\n"
     ]
    }
   ],
   "source": [
    "x = 10\n",
    "print(type(x))  # Output: <class 'int'>\n",
    "\n",
    "y = 3.14\n",
    "print(type(y))  # Output: <class 'float'>\n"
   ]
  },
  {
   "cell_type": "markdown",
   "id": "a6b0565e-2818-4934-b8f1-f1f9d5af77be",
   "metadata": {},
   "source": [
    "## Type Conversion (Casting)\n",
    "You can convert between data types using casting functions:\n",
    "\n",
    "int(): Convert to integer\n",
    "\n",
    "float(): Convert to float\n",
    "\n",
    "str(): Convert to string\n",
    "\n",
    "bool(): Convert to boolean"
   ]
  },
  {
   "cell_type": "code",
   "execution_count": 9,
   "id": "ab0032d0-9853-4032-a5ff-d38c2d13083b",
   "metadata": {},
   "outputs": [],
   "source": [
    "x = 5.67\n",
    "y = int(x)  # y becomes 5 (float to int conversion)\n",
    "\n",
    "z = str(100)  # z becomes \"100\" (int to string conversion)\n"
   ]
  },
  {
   "cell_type": "code",
   "execution_count": null,
   "id": "c5620296-9f18-4404-bdc4-3bd2a9c220bb",
   "metadata": {},
   "outputs": [],
   "source": []
  }
 ],
 "metadata": {
  "kernelspec": {
   "display_name": "Python 3 (ipykernel)",
   "language": "python",
   "name": "python3"
  },
  "language_info": {
   "codemirror_mode": {
    "name": "ipython",
    "version": 3
   },
   "file_extension": ".py",
   "mimetype": "text/x-python",
   "name": "python",
   "nbconvert_exporter": "python",
   "pygments_lexer": "ipython3",
   "version": "3.12.4"
  }
 },
 "nbformat": 4,
 "nbformat_minor": 5
}
