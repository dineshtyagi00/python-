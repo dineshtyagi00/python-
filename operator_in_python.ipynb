{
 "cells": [
  {
   "cell_type": "markdown",
   "id": "e09fdd4e-2a43-4a31-8dad-6411942842ab",
   "metadata": {},
   "source": [
    "## Operator in python\n",
    "In Python, operators are used to perform operations on variables and values. They can be categorized into several types:"
   ]
  },
  {
   "cell_type": "code",
   "execution_count": null,
   "id": "3668d3c6-83f3-4407-bad2-475f5f9dcdc8",
   "metadata": {},
   "outputs": [],
   "source": [
    "## Arithmetic Operators\n",
    "'''Used for mathematical operations.\n",
    "\n",
    "Operator\t                 Description\t                   Example\n",
    "+\t                          Addition                      \tx + y\n",
    "\t                      \n",
    "-\t                          Subtraction\t                    x - y\n",
    "                        \n",
    "*\t                          Multiplication\t                x * y\n",
    "\t                      \n",
    "/\t                          Division\t                        x / y\n",
    "\n",
    "%\t                          Modulus (remainder)\t            x % y\n",
    "\n",
    "**\t                          Exponentiation\t                x ** y (x raised to the power y)\n",
    "\n",
    "//\t                          Floor Division\t                x // y (division that rounds down)'''\n"
   ]
  },
  {
   "cell_type": "code",
   "execution_count": 2,
   "id": "fcc8ee84-4d46-4cd2-b3f8-a240536c09cc",
   "metadata": {},
   "outputs": [
    {
     "name": "stdout",
     "output_type": "stream",
     "text": [
      "13\n",
      "3.3333333333333335\n",
      "3\n",
      "1\n",
      "1000\n"
     ]
    }
   ],
   "source": [
    "x = 10\n",
    "y = 3\n",
    "print(x + y)   # Output: 13\n",
    "print(x / y)   # Output: 3.333...\n",
    "print(x // y)  # Output: 3 (floor division)\n",
    "print(x % y)   # Output: 1\n",
    "print(x ** y)  # Output: 1000\n"
   ]
  },
  {
   "cell_type": "code",
   "execution_count": null,
   "id": "9ddc295b-1770-4c33-ab2a-39384494c71c",
   "metadata": {},
   "outputs": [],
   "source": [
    "''' Comparison (Relational) Operators\n",
    "Used to compare values and return a Boolean result (True or False).\n",
    "\n",
    "Operator\t       Description\t          Example\n",
    "==\t                Equal to\t          x == y\n",
    "!=\t                Not equal to\t      x != y\n",
    ">\t                Greater than\t      x > y\n",
    "<\t                Less than\t          x < y\n",
    ">=\t                Greater than\n",
    "                    or equal to\t          x >= y\n",
    "<=\t                Less than or  \n",
    "                    equal to\t          x <= y   '''\n"
   ]
  },
  {
   "cell_type": "code",
   "execution_count": 4,
   "id": "f2aa99e8-a1ea-4aa5-ba76-30c730c4d05d",
   "metadata": {},
   "outputs": [
    {
     "name": "stdout",
     "output_type": "stream",
     "text": [
      "False\n",
      "True\n",
      "True\n"
     ]
    }
   ],
   "source": [
    "x = 5\n",
    "y = 10\n",
    "print(x > y)   # Output: False\n",
    "print(x <= y)  # Output: True\n",
    "print(x != y)"
   ]
  },
  {
   "cell_type": "code",
   "execution_count": null,
   "id": "662ab206-2f4a-411f-8d7f-9aa1750ae389",
   "metadata": {},
   "outputs": [],
   "source": [
    "''' Assignment Operators\n",
    "Used to assign values to variables.\n",
    "\n",
    "Operator\t               Description                  \tExample\n",
    "=\t                       Assigns value\t                 x = 5\n",
    "+=\t                       Add and assign\t                 x += 3 (x = x + 3)\n",
    "-=\t                       Subtract and assign\t             x -= 3 (x = x - 3)\n",
    "*=\t                       Multiply and assign\t             x *= 3\n",
    "/=\t                       Divide and assign\t             x /= 3\n",
    "%=\t                       Modulus and assign\t             x %= 3\n",
    "**=\t                       Exponentiation and assign\t     x **= 3\n",
    "//=\t                       Floor division and assign\t     x //= 3'''"
   ]
  },
  {
   "cell_type": "code",
   "execution_count": 6,
   "id": "064bff1f-2075-451a-8a94-e44bdafdc56d",
   "metadata": {},
   "outputs": [],
   "source": [
    "x = 5\n",
    "x += 3  # x becomes 8\n",
    "x *= 2  # x becomes 16\n"
   ]
  },
  {
   "cell_type": "code",
   "execution_count": null,
   "id": "26e3b176-3f09-4a11-aabb-6b670034414f",
   "metadata": {},
   "outputs": [],
   "source": [
    "'''Logical Operators\n",
    "Used to combine conditional statements. They return a Boolean result.\n",
    "\n",
    "Operator\t                      Description\t                                     Example\n",
    "and\t                    True if both conditions are true\t                    x < 5 and x < 10\n",
    "or\t                    True if at least one condition is true\t                x < 5 or x > 10\n",
    "not\t                    Reverses the result (True becomes False, and vice versa)\tnot(x < 5)'''"
   ]
  },
  {
   "cell_type": "code",
   "execution_count": 7,
   "id": "3cf42b76-594c-4532-b6e4-d4116a0a66fd",
   "metadata": {},
   "outputs": [
    {
     "name": "stdout",
     "output_type": "stream",
     "text": [
      "True\n",
      "False\n",
      "False\n"
     ]
    }
   ],
   "source": [
    "x = 5\n",
    "print(x > 3 and x < 10)  # Output: True\n",
    "print(x > 6 or x < 3)    # Output: False\n",
    "print(not(x > 3))        # Output: False\n"
   ]
  },
  {
   "cell_type": "code",
   "execution_count": null,
   "id": "3981b24d-b62d-4ace-a854-4052b52e0898",
   "metadata": {},
   "outputs": [],
   "source": [
    "'''Bitwise Operators\n",
    "Used to perform bit-level operations.\n",
    "\n",
    "Operator\t       Description\t          Example\n",
    "&\t              Bitwise AND\t           x & y\n",
    "`\t                    `\t             Bitwise OR\n",
    "^\t                Bitwise XOR         \tx ^ y\n",
    "~\t               Bitwise NOT \t             ~x\n",
    "<<\t                 Left Shift\t           x << y\n",
    ">>\t               Right Shift\t           x >> y '''"
   ]
  },
  {
   "cell_type": "code",
   "execution_count": 8,
   "id": "fc85ae35-1fd7-4d89-9d20-fdf751628c4e",
   "metadata": {},
   "outputs": [
    {
     "name": "stdout",
     "output_type": "stream",
     "text": [
      "0\n",
      "7\n",
      "7\n"
     ]
    }
   ],
   "source": [
    "x = 4  # Binary: 100\n",
    "y = 3  # Binary: 011\n",
    "print(x & y)  # Output: 0 (Binary AND)\n",
    "print(x | y)  # Output: 7 (Binary OR)\n",
    "print(x ^ y)  # Output: 7 (Binary XOR)\n"
   ]
  },
  {
   "cell_type": "code",
   "execution_count": null,
   "id": "242d552d-371a-4c33-a29b-1d18ba111c7b",
   "metadata": {},
   "outputs": [],
   "source": [
    "''' Membership Operators\n",
    "Used to check if a value exists within a sequence (like strings, lists, tuples).\n",
    "\n",
    "Operator\t            Description                    \tExample\n",
    "in\t                   True if a value is present\t     x in y\n",
    "not in\t               True if a value is not present\tx not in y'''"
   ]
  },
  {
   "cell_type": "code",
   "execution_count": 9,
   "id": "47d48510-534a-4f80-afc9-efcf924d6568",
   "metadata": {},
   "outputs": [
    {
     "name": "stdout",
     "output_type": "stream",
     "text": [
      "True\n",
      "True\n"
     ]
    }
   ],
   "source": [
    "x = \"hello\"\n",
    "print(\"h\" in x)  # Output: True\n",
    "print(\"z\" not in x)  # Output: True\n"
   ]
  },
  {
   "cell_type": "code",
   "execution_count": null,
   "id": "fc983cd5-8b06-497b-969b-53a4ed282e7c",
   "metadata": {},
   "outputs": [],
   "source": [
    "''' Identity Operators\n",
    "Used to compare the memory locations of two objects.\n",
    "\n",
    "Operator\t                   Description\t                                         Example\n",
    "is\t               True if both objects refer to the same memory location\t          x is y\n",
    "is not\t           True if both objects do not refer to the same memory location\t  x is not y'''"
   ]
  },
  {
   "cell_type": "code",
   "execution_count": 10,
   "id": "0fdb9c7e-1682-49a5-8c2c-afb4711f985a",
   "metadata": {},
   "outputs": [
    {
     "name": "stdout",
     "output_type": "stream",
     "text": [
      "True\n",
      "False\n"
     ]
    }
   ],
   "source": [
    "x = [1, 2, 3]\n",
    "y = x\n",
    "z = [1, 2, 3]\n",
    "print(x is y)   # Output: True (y references the same object as x)\n",
    "print(x is z)   # Output: False (x and z are different objects with the same values)\n"
   ]
  },
  {
   "cell_type": "code",
   "execution_count": null,
   "id": "efdd28bd-d46d-47fa-a709-5f0412d120d0",
   "metadata": {},
   "outputs": [],
   "source": []
  }
 ],
 "metadata": {
  "kernelspec": {
   "display_name": "Python 3 (ipykernel)",
   "language": "python",
   "name": "python3"
  },
  "language_info": {
   "codemirror_mode": {
    "name": "ipython",
    "version": 3
   },
   "file_extension": ".py",
   "mimetype": "text/x-python",
   "name": "python",
   "nbconvert_exporter": "python",
   "pygments_lexer": "ipython3",
   "version": "3.12.4"
  }
 },
 "nbformat": 4,
 "nbformat_minor": 5
}
