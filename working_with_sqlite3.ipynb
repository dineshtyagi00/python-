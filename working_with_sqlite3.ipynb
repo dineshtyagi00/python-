{
 "cells": [
  {
   "cell_type": "markdown",
   "id": "7b3f2817-5211-4610-838e-4ae4677e5281",
   "metadata": {},
   "source": [
    "## S14-- working with sqlite3\n",
    "\n",
    "\n",
    "SQLite3 is a lightweight, serverless, and self-contained SQL database engine. It's commonly used for local storage in applications, testing, or small-scale databases. \n"
   ]
  },
  {
   "cell_type": "code",
   "execution_count": 1,
   "id": "d9449afe-847b-4e69-a619-8fd168fdd018",
   "metadata": {},
   "outputs": [],
   "source": [
    "import sqlite3"
   ]
  },
  {
   "cell_type": "code",
   "execution_count": 2,
   "id": "bff01aa7-78f2-4f62-901e-22b3832f1b2c",
   "metadata": {},
   "outputs": [
    {
     "data": {
      "text/plain": [
       "<sqlite3.Connection at 0x199c0944c70>"
      ]
     },
     "execution_count": 2,
     "metadata": {},
     "output_type": "execute_result"
    }
   ],
   "source": [
    "## connect to an sqlite database \n",
    "connection = sqlite3.connect('example.db')\n",
    "connection"
   ]
  },
  {
   "cell_type": "code",
   "execution_count": 3,
   "id": "92bc9ea6-af21-485e-9579-21eacba037b6",
   "metadata": {},
   "outputs": [],
   "source": [
    "cursor = connection.cursor()"
   ]
  },
  {
   "cell_type": "code",
   "execution_count": 5,
   "id": "b3a1747c-8a28-4033-b226-b5dfcd78beae",
   "metadata": {},
   "outputs": [],
   "source": [
    "## create a table \n",
    "cursor.execute('''\n",
    "create table if not exists employees(\n",
    "            id integer primary key,\n",
    "            name text not null,\n",
    "            age integer ,\n",
    "            department text\n",
    "            )\n",
    "''')\n",
    "\n",
    "\n",
    "### commit the changes \n",
    "connection.commit()\n",
    "\n"
   ]
  },
  {
   "cell_type": "code",
   "execution_count": 6,
   "id": "5b1d9c0f-7d86-4d52-bab9-ba52b0993816",
   "metadata": {},
   "outputs": [
    {
     "data": {
      "text/plain": [
       "<sqlite3.Cursor at 0x199c0939a40>"
      ]
     },
     "execution_count": 6,
     "metadata": {},
     "output_type": "execute_result"
    }
   ],
   "source": [
    "cursor.execute('''\n",
    "select * from employees\n",
    "''')"
   ]
  },
  {
   "cell_type": "code",
   "execution_count": 7,
   "id": "77ddaad5-8249-43b8-8957-18b90f9aae7d",
   "metadata": {},
   "outputs": [
    {
     "data": {
      "text/plain": [
       "<sqlite3.Cursor at 0x199c0939a40>"
      ]
     },
     "execution_count": 7,
     "metadata": {},
     "output_type": "execute_result"
    }
   ],
   "source": [
    "## insert the data in sqlite table \n",
    "cursor.execute('''\n",
    "insert into employees(name,age ,department) values ('keshav',23,'data scientiest')\n",
    "''')\n"
   ]
  },
  {
   "cell_type": "code",
   "execution_count": 8,
   "id": "18aa5b12-bcec-4251-8010-216e27ebbec0",
   "metadata": {},
   "outputs": [
    {
     "data": {
      "text/plain": [
       "<sqlite3.Cursor at 0x199c0939a40>"
      ]
     },
     "execution_count": 8,
     "metadata": {},
     "output_type": "execute_result"
    }
   ],
   "source": [
    "cursor.execute('''\n",
    "insert into employees(name,age ,department) values ('dinesh',23,'data scientiest')\n",
    "''')\n",
    "\n",
    "cursor.execute('''\n",
    "insert into employees(name,age ,department) values ('vishal',18,'analyst')\n",
    "''')"
   ]
  },
  {
   "cell_type": "code",
   "execution_count": 9,
   "id": "a462b194-db9d-4c0e-997e-d6023f4fffb4",
   "metadata": {},
   "outputs": [],
   "source": [
    "connection.commit()"
   ]
  },
  {
   "cell_type": "code",
   "execution_count": 10,
   "id": "54dd96de-97a9-48fe-b302-3614852360c5",
   "metadata": {},
   "outputs": [
    {
     "name": "stdout",
     "output_type": "stream",
     "text": [
      "(1, 'keshav', 23, 'data scientiest')\n",
      "(2, 'dinesh', 23, 'data scientiest')\n",
      "(3, 'vishal', 18, 'analyst')\n"
     ]
    }
   ],
   "source": [
    "### query the data from the table \n",
    "cursor.execute( 'select * from employees')\n",
    "rows = cursor.fetchall()\n",
    "\n",
    "\n",
    "## print the quieried data \n",
    "\n",
    "\n",
    "for row in rows:\n",
    "    print(row)"
   ]
  },
  {
   "cell_type": "code",
   "execution_count": 11,
   "id": "7a319f45-a0d8-461d-9783-369941408f0c",
   "metadata": {},
   "outputs": [],
   "source": [
    "### update the data in the table \n",
    "\n",
    "cursor.execute(''' update employees\n",
    "                  set age = 34 where name = \"krish\" ''')\n",
    "\n",
    "connection.commit()"
   ]
  },
  {
   "cell_type": "code",
   "execution_count": 12,
   "id": "496ba70c-ad9d-4c0e-b69d-ce9eb0b4ddff",
   "metadata": {},
   "outputs": [
    {
     "name": "stdout",
     "output_type": "stream",
     "text": [
      "(1, 'keshav', 23, 'data scientiest')\n",
      "(2, 'dinesh', 23, 'data scientiest')\n",
      "(3, 'vishal', 18, 'analyst')\n"
     ]
    }
   ],
   "source": [
    "cursor.execute( 'select * from employees')\n",
    "rows = cursor.fetchall()\n",
    "\n",
    "\n",
    "## print the quieried data \n",
    "\n",
    "\n",
    "for row in rows:\n",
    "    print(row)"
   ]
  },
  {
   "cell_type": "code",
   "execution_count": null,
   "id": "92930868-a069-441c-9ef6-184e4c68b71b",
   "metadata": {},
   "outputs": [],
   "source": []
  }
 ],
 "metadata": {
  "kernelspec": {
   "display_name": "Python 3 (ipykernel)",
   "language": "python",
   "name": "python3"
  },
  "language_info": {
   "codemirror_mode": {
    "name": "ipython",
    "version": 3
   },
   "file_extension": ".py",
   "mimetype": "text/x-python",
   "name": "python",
   "nbconvert_exporter": "python",
   "pygments_lexer": "ipython3",
   "version": "3.12.4"
  }
 },
 "nbformat": 4,
 "nbformat_minor": 5
}
