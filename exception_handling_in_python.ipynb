{
 "cells": [
  {
   "cell_type": "markdown",
   "id": "b9ed652b-04f2-4e87-93d9-73e676fe238b",
   "metadata": {},
   "source": [
    "## Exception handling in python "
   ]
  },
  {
   "cell_type": "code",
   "execution_count": 2,
   "id": "aceb3148-2180-49a6-80c8-e41957aadde8",
   "metadata": {},
   "outputs": [
    {
     "data": {
      "text/plain": [
       "' In Python, exception handling is managed primarily through try, except, else, and finally blocks. \\nThese constructs allow you to gracefully handle errors, ensuring your program can respond appropriately \\nto unexpected events without crashing. Here’s a quick overview: '"
      ]
     },
     "execution_count": 2,
     "metadata": {},
     "output_type": "execute_result"
    }
   ],
   "source": [
    "''' In Python, exception handling is managed primarily through try, except, else, and finally blocks. \n",
    "These constructs allow you to gracefully handle errors, ensuring your program can respond appropriately \n",
    "to unexpected events without crashing. Here’s a quick overview: '''"
   ]
  },
  {
   "cell_type": "markdown",
   "id": "08a6de0b-f1cc-402b-a6de-33bd8b26ea29",
   "metadata": {},
   "source": [
    " ## what are exceptions ??\n",
    " exceptions are events that disrupt the normal flow of program. they occur when an error is encountared during program execution. common exception include :\n",
    " 1. zero division error: dividing by zero\n",
    " 2. file not found error: file not found\n",
    " 3. value erroe : invalid value\n",
    " 4. type error : invalid type "
   ]
  },
  {
   "cell_type": "code",
   "execution_count": 4,
   "id": "51132200-7842-433f-8e1b-9af05cac3404",
   "metadata": {},
   "outputs": [
    {
     "ename": "NameError",
     "evalue": "name 'b' is not defined",
     "output_type": "error",
     "traceback": [
      "\u001b[1;31m---------------------------------------------------------------------------\u001b[0m",
      "\u001b[1;31mNameError\u001b[0m                                 Traceback (most recent call last)",
      "Cell \u001b[1;32mIn[4], line 1\u001b[0m\n\u001b[1;32m----> 1\u001b[0m a \u001b[38;5;241m=\u001b[39m b\n",
      "\u001b[1;31mNameError\u001b[0m: name 'b' is not defined"
     ]
    }
   ],
   "source": [
    "a = b"
   ]
  },
  {
   "cell_type": "code",
   "execution_count": 6,
   "id": "7b8cdbf5-dcb5-4a54-8f4c-b61296823351",
   "metadata": {},
   "outputs": [
    {
     "name": "stdout",
     "output_type": "stream",
     "text": [
      "name 'b' is not defined\n"
     ]
    }
   ],
   "source": [
    "## eception try , except block \n",
    "\n",
    "try:\n",
    "    a=b\n",
    "except NameError as ex :\n",
    "    print(ex)\n",
    "\n"
   ]
  },
  {
   "cell_type": "code",
   "execution_count": 8,
   "id": "dd5118c6-4e29-459f-9ad0-e9be9c4d4bc2",
   "metadata": {},
   "outputs": [
    {
     "ename": "ZeroDivisionError",
     "evalue": "division by zero",
     "output_type": "error",
     "traceback": [
      "\u001b[1;31m---------------------------------------------------------------------------\u001b[0m",
      "\u001b[1;31mZeroDivisionError\u001b[0m                         Traceback (most recent call last)",
      "Cell \u001b[1;32mIn[8], line 1\u001b[0m\n\u001b[1;32m----> 1\u001b[0m result \u001b[38;5;241m=\u001b[39m\u001b[38;5;241m1\u001b[39m\u001b[38;5;241m/\u001b[39m\u001b[38;5;241m0\u001b[39m\n",
      "\u001b[1;31mZeroDivisionError\u001b[0m: division by zero"
     ]
    }
   ],
   "source": [
    "result =1/0"
   ]
  },
  {
   "cell_type": "code",
   "execution_count": 9,
   "id": "a7baeed3-3e02-409d-a8b1-788db84ec278",
   "metadata": {},
   "outputs": [
    {
     "name": "stdout",
     "output_type": "stream",
     "text": [
      "division by zero\n",
      "please enter the denominator greaer than zero\n"
     ]
    }
   ],
   "source": [
    "try:\n",
    "    result=1/0\n",
    "\n",
    "except ZeroDivisionError as ex:\n",
    "    print(ex)\n",
    "    print(\"please enter the denominator greaer than zero\")"
   ]
  },
  {
   "cell_type": "code",
   "execution_count": 11,
   "id": "d464a558-77ea-4612-9962-9c9681cba767",
   "metadata": {},
   "outputs": [
    {
     "name": "stdout",
     "output_type": "stream",
     "text": [
      "name 'b' is not defined\n",
      "main exception got caught here\n"
     ]
    }
   ],
   "source": [
    "try:\n",
    "    result=1/2\n",
    "    a=b\n",
    "\n",
    "except ZeroDivisionError as ex:\n",
    "    print(ex)\n",
    "    print(\"please enter the denominator greaer than zero\")\n",
    "\n",
    "except Exception as ex1:\n",
    "    print(ex1)\n",
    "    print(\"main exception got caught here\")\n",
    "    "
   ]
  },
  {
   "cell_type": "code",
   "execution_count": 14,
   "id": "e6cb049f-9a5e-4e6d-a7cb-d368e7609af6",
   "metadata": {},
   "outputs": [
    {
     "name": "stdin",
     "output_type": "stream",
     "text": [
      "enter a number 1\n"
     ]
    }
   ],
   "source": [
    "try:\n",
    "    num = int(input(\"enter a number\"))\n",
    "    result = 10/num\n",
    "\n",
    "except ValueError:\n",
    "    print(\"this is not a valid number\")\n",
    "\n",
    "except ZeroDivisionError:\n",
    "    print(\"please enter the denominator greaer than zero\")\n",
    "\n",
    "except Exception as ex:\n",
    "    print(ex)"
   ]
  },
  {
   "cell_type": "code",
   "execution_count": 18,
   "id": "87cac733-564f-418f-8791-8d90e7143716",
   "metadata": {},
   "outputs": [
    {
     "name": "stdin",
     "output_type": "stream",
     "text": [
      "enter a number 2\n"
     ]
    },
    {
     "name": "stdout",
     "output_type": "stream",
     "text": [
      "the result is  5.0\n"
     ]
    }
   ],
   "source": [
    "## try , except , else block \n",
    "try:\n",
    "    num = int(input(\"enter a number\"))\n",
    "    result = 10/num\n",
    "except ValueError:\n",
    "    print(\"this is not a valid number\")\n",
    "\n",
    "except ZeroDivisionError:\n",
    "    print(\"please enter the denominator greaer than zero\")  \n",
    "except Exception as ex:\n",
    "    print(ex)\n",
    "\n",
    "else:\n",
    "    print(\"the result is \" ,result)"
   ]
  },
  {
   "cell_type": "code",
   "execution_count": 20,
   "id": "01ad8d68-7c52-4a72-ac48-c939f6b98f0c",
   "metadata": {},
   "outputs": [
    {
     "name": "stdin",
     "output_type": "stream",
     "text": [
      "enter a number 2\n"
     ]
    },
    {
     "name": "stdout",
     "output_type": "stream",
     "text": [
      "the result is  5.0\n",
      "excecution is complete\n"
     ]
    }
   ],
   "source": [
    "## try , except , else and  finally \n",
    "\n",
    "try:\n",
    "    num = int(input(\"enter a number\"))\n",
    "    result = 10/num\n",
    "except ValueError:\n",
    "    print(\"this is not a valid number\")\n",
    "\n",
    "except ZeroDivisionError:\n",
    "    print(\"please enter the denominator greaer than zero\") \n",
    "    \n",
    "except Exception as ex:\n",
    "    print(ex)\n",
    "\n",
    "else:\n",
    "    print(\"the result is \" ,result)\n",
    "\n",
    "finally:\n",
    "    print(\"excecution is complete\")"
   ]
  },
  {
   "cell_type": "markdown",
   "id": "9f85e774-11bb-4cad-af30-b43564734125",
   "metadata": {},
   "source": [
    "### use case in real life \n",
    "conclusion :\n",
    "When interacting with databases, there are often errors related to connectivity, query syntax, or transaction failures. Exception handling ensures that errors do not disrupt the entire application."
   ]
  },
  {
   "cell_type": "code",
   "execution_count": null,
   "id": "3b0a06ed-9553-4296-b67d-c67b2e9ed16f",
   "metadata": {},
   "outputs": [],
   "source": [
    "### file handling and eception handling\n",
    "\n",
    "try:\n",
    "    file = open('example.txt','r')\n",
    "    content = file.read()a=b\n",
    "    print(content)\n",
    "\n",
    "except FileNotFoundError:\n",
    "    print(\"the file does not exists\")\n",
    "\n",
    "except Exception as ex:\n",
    "    print(ex)\n",
    "\n",
    "finally:\n",
    "    if 'file' in locals() or not file.closed():\n",
    "        file.close()\n",
    "        print('file close')"
   ]
  }
 ],
 "metadata": {
  "kernelspec": {
   "display_name": "Python 3 (ipykernel)",
   "language": "python",
   "name": "python3"
  },
  "language_info": {
   "codemirror_mode": {
    "name": "ipython",
    "version": 3
   },
   "file_extension": ".py",
   "mimetype": "text/x-python",
   "name": "python",
   "nbconvert_exporter": "python",
   "pygments_lexer": "ipython3",
   "version": "3.12.4"
  }
 },
 "nbformat": 4,
 "nbformat_minor": 5
}
