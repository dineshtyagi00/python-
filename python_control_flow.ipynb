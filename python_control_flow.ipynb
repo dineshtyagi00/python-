{
 "cells": [
  {
   "cell_type": "markdown",
   "id": "6bbe1699-8730-41f3-a95f-29983f410f5c",
   "metadata": {},
   "source": [
    "CONTROL FLOW\n",
    "\n",
    "CONDITIONAL STATEMENTS(IF,ELSE,ELIF)\n",
    "1. introduvtion to conditional statements\n",
    "2. if statements\n",
    "3. else statements\n",
    "4. elif statements\n",
    "5. nested conditional statements\n",
    "6. practical example\n",
    "7. common errors and best practices"
   ]
  },
  {
   "cell_type": "markdown",
   "id": "edadc5fa-afe4-446a-80b6-7571370ef693",
   "metadata": {},
   "source": [
    "\n",
    "In Python, conditional statements are used to execute a block of code only if a specified condition is true. The most common conditional statement is the if statement, which can be combined with elif (else-if) and else clauses to handle different conditions."
   ]
  },
  {
   "cell_type": "code",
   "execution_count": 2,
   "id": "bf8e2b6f-95e5-4d73-a9a9-fd922207fb54",
   "metadata": {},
   "outputs": [
    {
     "name": "stdin",
     "output_type": "stream",
     "text": [
      " 24\n"
     ]
    },
    {
     "name": "stdout",
     "output_type": "stream",
     "text": [
      "you are allowed to vote in the elections\n"
     ]
    }
   ],
   "source": [
    "### if statement\n",
    "age = int(input())\n",
    "if age>=18:\n",
    "    print(\"you are allowed to vote in the elections\")"
   ]
  },
  {
   "cell_type": "code",
   "execution_count": 2,
   "id": "395cb11e-8092-47e2-8aa7-3f203d738f1a",
   "metadata": {},
   "outputs": [
    {
     "name": "stdout",
     "output_type": "stream",
     "text": [
      " 5\n"
     ]
    },
    {
     "name": "stdout",
     "output_type": "stream",
     "text": [
      "you are a minor\n"
     ]
    }
   ],
   "source": [
    "### else statements\n",
    " ## the else statement execute a block of  code if the condition in the if statement is false \n",
    "age = int(input())\n",
    "if age>=18:\n",
    "    print(\"you are allowed to vote in the elections\")\n",
    "else:\n",
    "    print(\"you are a minor\")\n"
   ]
  },
  {
   "cell_type": "code",
   "execution_count": 5,
   "id": "c0355507-6367-4fdf-8db8-5f171d785507",
   "metadata": {},
   "outputs": [
    {
     "name": "stdout",
     "output_type": "stream",
     "text": [
      "Enter your age:  85\n"
     ]
    },
    {
     "name": "stdout",
     "output_type": "stream",
     "text": [
      "You are too old.\n"
     ]
    }
   ],
   "source": [
    "### elif statement\n",
    "## the elif statement allows you to check for multiple condition . it stand  for \"else if\"\n",
    "age = int(input(\"Enter your age: \"))\n",
    "\n",
    "if age >= 18 and age < 79:\n",
    "    print(\"You are allowed to vote in the elections.\")\n",
    "elif age >= 80:\n",
    "    print(\"You are too old.\")\n",
    "else:\n",
    "    print(\"You are a minor.\")\n",
    "\n",
    "\n"
   ]
  },
  {
   "cell_type": "code",
   "execution_count": 8,
   "id": "5e5d776f-1e9f-4e8f-8858-cef3cfba55f6",
   "metadata": {},
   "outputs": [
    {
     "name": "stdout",
     "output_type": "stream",
     "text": [
      "Enter the number:  -5\n"
     ]
    },
    {
     "name": "stdout",
     "output_type": "stream",
     "text": [
      "The number is negative\n"
     ]
    }
   ],
   "source": [
    "### nested conditional statements \n",
    "## you can place if elif else statements inside if , elif, else statement to create nested conditional statements\n",
    "## number even , odd , negative\n",
    "\n",
    "num = int(input(\"Enter the number: \"))\n",
    "\n",
    "if num >= 0:\n",
    "    print(\"The number is positive\")\n",
    "    if num % 2 == 0:\n",
    "        print(\"The number is even\")\n",
    "    else:\n",
    "        print(\"The number is odd\")\n",
    "else:\n",
    "    print(\"The number is negative\")\n",
    "\n",
    "               \n",
    "\n",
    "               "
   ]
  },
  {
   "cell_type": "code",
   "execution_count": 12,
   "id": "782b31d3-84f0-423b-87b3-c315a71470ce",
   "metadata": {},
   "outputs": [
    {
     "name": "stdout",
     "output_type": "stream",
     "text": [
      "enter a year 5\n"
     ]
    },
    {
     "name": "stdout",
     "output_type": "stream",
     "text": [
      "year is not a leap year\n"
     ]
    }
   ],
   "source": [
    "### some practical example \n",
    "## you need to determine if a year is leap year \n",
    "\n",
    "\n",
    "year = int(input(\"enter a year\"))\n",
    "\n",
    "if year%4 ==0:\n",
    "     print(\"year is a leap year\")\n",
    "\n",
    "else:\n",
    "    print(\"year is not a leap year\")"
   ]
  },
  {
   "cell_type": "markdown",
   "id": "70610de9-dc5b-4e63-8b1f-30bef90686b7",
   "metadata": {},
   "source": [
    "\n",
    "## LOOPS\n",
    "\n",
    "1. for loop\n",
    "2. while loop \n",
    "3. loop control statements\n",
    "4. nested loop\n",
    "5. practical example and common errors "
   ]
  },
  {
   "cell_type": "code",
   "execution_count": 13,
   "id": "2abd138e-b17b-4218-bc78-6291938c8708",
   "metadata": {},
   "outputs": [
    {
     "data": {
      "text/plain": [
       "range(0, 5)"
      ]
     },
     "execution_count": 13,
     "metadata": {},
     "output_type": "execute_result"
    }
   ],
   "source": [
    "range(5)"
   ]
  },
  {
   "cell_type": "code",
   "execution_count": 14,
   "id": "bf2d2e59-2a6c-40d9-9e5c-c8b6690ba566",
   "metadata": {},
   "outputs": [
    {
     "name": "stdout",
     "output_type": "stream",
     "text": [
      "0\n",
      "1\n",
      "2\n",
      "3\n",
      "4\n"
     ]
    }
   ],
   "source": [
    "## FOR LOOP \n",
    "##A for loop is used to iterate over a sequence (such as a list, tuple, dictionary, string, or range) and\n",
    "## execute a block of code for each element in the sequence.\n",
    "for i in range(5):\n",
    "    print(i)"
   ]
  },
  {
   "cell_type": "code",
   "execution_count": 17,
   "id": "f6dccc19-e2d9-4109-9336-6b8201559dd7",
   "metadata": {},
   "outputs": [
    {
     "name": "stdout",
     "output_type": "stream",
     "text": [
      "1\n",
      "3\n",
      "5\n",
      "7\n",
      "9\n"
     ]
    }
   ],
   "source": [
    "for i in range(1,10,2):\n",
    "    print(i)"
   ]
  },
  {
   "cell_type": "code",
   "execution_count": 19,
   "id": "4af93171-4a80-46e4-af23-3bad586284ed",
   "metadata": {},
   "outputs": [
    {
     "name": "stdout",
     "output_type": "stream",
     "text": [
      "k\n",
      "e\n",
      "s\n",
      "h\n",
      "a\n",
      "v\n",
      " \n",
      "t\n",
      "y\n",
      "a\n",
      "g\n",
      "i\n"
     ]
    }
   ],
   "source": [
    "#string \n",
    "str = \"keshav tyagi\"\n",
    "for i in str:\n",
    "    print(i)"
   ]
  },
  {
   "cell_type": "code",
   "execution_count": 20,
   "id": "3da4f0b6-a018-4b45-8de5-8ca5b26edf5f",
   "metadata": {},
   "outputs": [
    {
     "name": "stdout",
     "output_type": "stream",
     "text": [
      "0\n",
      "1\n",
      "2\n",
      "3\n",
      "4\n"
     ]
    }
   ],
   "source": [
    "## while loop \n",
    "# the while loop continue  to execute as long as condition is true\n",
    "count = 0\n",
    "while count<5:\n",
    "    print(count)\n",
    "    count= count +1"
   ]
  },
  {
   "cell_type": "code",
   "execution_count": 21,
   "id": "76bbff5a-25f8-4ecf-bda5-207248ca1796",
   "metadata": {},
   "outputs": [
    {
     "name": "stdout",
     "output_type": "stream",
     "text": [
      "0\n"
     ]
    }
   ],
   "source": [
    "count = 0 \n",
    "while count%2 ==0:\n",
    "    print(count)\n",
    "    count= count +1"
   ]
  },
  {
   "cell_type": "code",
   "execution_count": 25,
   "id": "b46deb71-1a2b-4e70-84c9-251767f61404",
   "metadata": {},
   "outputs": [
    {
     "name": "stdout",
     "output_type": "stream",
     "text": [
      "0\n",
      "1\n",
      "2\n",
      "3\n",
      "4\n"
     ]
    }
   ],
   "source": [
    "## loop control statements\n",
    "\n",
    "#break \n",
    "## the break statement exists the loop permaturely \n",
    "\n",
    "for i in range(10):\n",
    "    if i==5:\n",
    "        break\n",
    "    print(i)    \n",
    "\n"
   ]
  },
  {
   "cell_type": "code",
   "execution_count": 26,
   "id": "a047226f-625b-49e8-b358-484512ca9d65",
   "metadata": {},
   "outputs": [
    {
     "name": "stdout",
     "output_type": "stream",
     "text": [
      "1\n",
      "3\n",
      "5\n",
      "7\n",
      "9\n"
     ]
    }
   ],
   "source": [
    "##continue\n",
    "# the continue statement skips the current iteration and continues with the next\n",
    "for i in range(10):\n",
    "    if i%2==0:\n",
    "        continue\n",
    "    print(i)    "
   ]
  },
  {
   "cell_type": "code",
   "execution_count": 27,
   "id": "095cf2ae-52c8-49f3-98d3-0669a9bbc1e5",
   "metadata": {},
   "outputs": [
    {
     "name": "stdout",
     "output_type": "stream",
     "text": [
      "0\n",
      "1\n",
      "2\n",
      "3\n",
      "4\n"
     ]
    }
   ],
   "source": [
    "## pass \n",
    "## the pass statement is null operation; it does nothing.\n",
    "for i in range (5):\n",
    "    if i==3:\n",
    "        pass\n",
    "    print(i)"
   ]
  },
  {
   "cell_type": "code",
   "execution_count": 29,
   "id": "b37ef0c1-7065-4891-a3bd-616f86f1ab1c",
   "metadata": {},
   "outputs": [
    {
     "name": "stdout",
     "output_type": "stream",
     "text": [
      "i:{i} and j:{j}\n",
      "i:{i} and j:{j}\n",
      "i:{i} and j:{j}\n",
      "i:{i} and j:{j}\n",
      "i:{i} and j:{j}\n",
      "i:{i} and j:{j}\n"
     ]
    }
   ],
   "source": [
    "##nested loop \n",
    "## loop inside a loop\n",
    "for i in range (3):\n",
    "    for j in range(2):\n",
    "        print(\"i:{i} and j:{j}\")"
   ]
  },
  {
   "cell_type": "code",
   "execution_count": 30,
   "id": "ca02df5d-7c5f-4407-9abf-ff9230e38fbc",
   "metadata": {},
   "outputs": [
    {
     "name": "stdout",
     "output_type": "stream",
     "text": [
      "the sum of 10 natural no  55\n"
     ]
    }
   ],
   "source": [
    "## sum of first 10 natural no with while loop \n",
    "n = 10\n",
    "sum = 0 \n",
    "count= 1\n",
    "\n",
    "while count<=n:\n",
    "    sum = sum +count\n",
    "    count = count+1\n",
    "print(\"the sum of 10 natural no \",sum)"
   ]
  },
  {
   "cell_type": "code",
   "execution_count": 3,
   "id": "9830aa2b-5d37-40c0-b1a8-357110a18ac2",
   "metadata": {},
   "outputs": [
    {
     "name": "stdout",
     "output_type": "stream",
     "text": [
      "55\n"
     ]
    }
   ],
   "source": [
    "n= 10\n",
    "sum = 0\n",
    "for i in range(11):\n",
    "    sum=sum+i\n",
    "print(sum)  \n",
    "; \n",
    "       "
   ]
  },
  {
   "cell_type": "code",
   "execution_count": 7,
   "id": "4c3d0efb-b7a3-4355-a17d-923a6f167d1f",
   "metadata": {},
   "outputs": [
    {
     "name": "stdout",
     "output_type": "stream",
     "text": [
      "2\n",
      "3\n",
      "5\n",
      "7\n",
      "11\n",
      "13\n",
      "17\n",
      "19\n",
      "23\n",
      "29\n",
      "31\n",
      "37\n",
      "41\n",
      "43\n",
      "47\n",
      "53\n",
      "59\n",
      "61\n",
      "67\n",
      "71\n",
      "73\n",
      "79\n",
      "83\n",
      "89\n",
      "97\n"
     ]
    }
   ],
   "source": [
    "for num in range(1, 101):\n",
    "    if num > 1:\n",
    "        for i in range(2, num):\n",
    "            if num % i == 0:\n",
    "                break\n",
    "        else:\n",
    "            print(num)\n",
    "\n",
    "        \n",
    "\n"
   ]
  },
  {
   "cell_type": "code",
   "execution_count": null,
   "id": "db0b9ee1-fcdd-4dd3-a8c3-298fcc2c2410",
   "metadata": {},
   "outputs": [],
   "source": []
  }
 ],
 "metadata": {
  "kernelspec": {
   "display_name": "Python 3 (ipykernel)",
   "language": "python",
   "name": "python3"
  },
  "language_info": {
   "codemirror_mode": {
    "name": "ipython",
    "version": 3
   },
   "file_extension": ".py",
   "mimetype": "text/x-python",
   "name": "python",
   "nbconvert_exporter": "python",
   "pygments_lexer": "ipython3",
   "version": "3.12.4"
  }
 },
 "nbformat": 4,
 "nbformat_minor": 5
}
